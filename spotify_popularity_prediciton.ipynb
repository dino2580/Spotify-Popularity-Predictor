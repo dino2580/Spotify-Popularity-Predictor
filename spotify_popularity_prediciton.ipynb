{
 "cells": [
  {
   "cell_type": "markdown",
   "id": "c14fdadf",
   "metadata": {},
   "source": [
    "# Spotify popularity prediction using Machine Learning based on various attributes of the song"
   ]
  },
  {
   "cell_type": "markdown",
   "id": "265c2962",
   "metadata": {},
   "source": [
    "## First of all import all the necessary modules\n",
    "* Pandas for creating the dataframe\n",
    "* MinMaxScaler for scaling the attributes\n",
    "* LinearRegression for predicitng the exact degree of popularity\n",
    "* LogisticRegression for Classifying into NotPopular, Neutral, Popular\n",
    "* Decision Tree from classifiaction into Popular('Yes','No')\n",
    "* Accuracy_score to check the accuracy of the trained model"
   ]
  },
  {
   "cell_type": "code",
   "execution_count": 2,
   "id": "8d4a6815",
   "metadata": {},
   "outputs": [],
   "source": [
    "import numpy as np\n",
    "import pandas as pd\n",
    "import tensorflow as tf\n",
    "from keras.models import Sequential\n",
    "from sklearn.linear_model import LinearRegression,LogisticRegression\n",
    "from sklearn.metrics import mean_absolute_error,mean_squared_error\n",
    "from sklearn.model_selection import train_test_split\n",
    "from sklearn.tree import DecisionTreeClassifier\n",
    "from sklearn.metrics import accuracy_score\n",
    "from sklearn.preprocessing import MinMaxScaler\n",
    "import joblib"
   ]
  },
  {
   "cell_type": "markdown",
   "id": "98562953",
   "metadata": {},
   "source": [
    "## Read the .csv file into a Pandas Dataframe and remove TrackID and Index"
   ]
  },
  {
   "cell_type": "code",
   "execution_count": 3,
   "id": "da79cbf8",
   "metadata": {},
   "outputs": [
    {
     "name": "stdout",
     "output_type": "stream",
     "text": [
      "Index(['Unnamed: 0', 'track_id', 'artists', 'album_name', 'track_name',\n",
      "       'popularity', 'duration_ms', 'explicit', 'danceability', 'energy',\n",
      "       'key', 'loudness', 'mode', 'speechiness', 'acousticness',\n",
      "       'instrumentalness', 'liveness', 'valence', 'tempo', 'time_signature',\n",
      "       'track_genre'],\n",
      "      dtype='object')\n",
      "   Unnamed: 0                track_id                 artists   \n",
      "0           0  5SuOikwiRyPMVoIQDJUgSV             Gen Hoshino  \\\n",
      "1           1  4qPNDBW1i3p13qLCt0Ki3A            Ben Woodward   \n",
      "2           2  1iJBSr7s7jYXzM8EGcbK5b  Ingrid Michaelson;ZAYN   \n",
      "3           3  6lfxq3CG4xtTiEg7opyCyx            Kina Grannis   \n",
      "4           4  5vjLSffimiIP26QG5WcN2K        Chord Overstreet   \n",
      "\n",
      "                                          album_name   \n",
      "0                                             Comedy  \\\n",
      "1                                   Ghost (Acoustic)   \n",
      "2                                     To Begin Again   \n",
      "3  Crazy Rich Asians (Original Motion Picture Sou...   \n",
      "4                                            Hold On   \n",
      "\n",
      "                   track_name  popularity  duration_ms  explicit   \n",
      "0                      Comedy          73       230666     False  \\\n",
      "1            Ghost - Acoustic          55       149610     False   \n",
      "2              To Begin Again          57       210826     False   \n",
      "3  Can't Help Falling In Love          71       201933     False   \n",
      "4                     Hold On          82       198853     False   \n",
      "\n",
      "   danceability  energy  ...  loudness  mode  speechiness  acousticness   \n",
      "0         0.676  0.4610  ...    -6.746     0       0.1430        0.0322  \\\n",
      "1         0.420  0.1660  ...   -17.235     1       0.0763        0.9240   \n",
      "2         0.438  0.3590  ...    -9.734     1       0.0557        0.2100   \n",
      "3         0.266  0.0596  ...   -18.515     1       0.0363        0.9050   \n",
      "4         0.618  0.4430  ...    -9.681     1       0.0526        0.4690   \n",
      "\n",
      "   instrumentalness  liveness  valence    tempo  time_signature  track_genre  \n",
      "0          0.000001    0.3580    0.715   87.917               4     acoustic  \n",
      "1          0.000006    0.1010    0.267   77.489               4     acoustic  \n",
      "2          0.000000    0.1170    0.120   76.332               4     acoustic  \n",
      "3          0.000071    0.1320    0.143  181.740               3     acoustic  \n",
      "4          0.000000    0.0829    0.167  119.949               4     acoustic  \n",
      "\n",
      "[5 rows x 21 columns]\n",
      "Index(['artists', 'album_name', 'track_name', 'popularity', 'duration_ms',\n",
      "       'explicit', 'danceability', 'energy', 'key', 'loudness', 'mode',\n",
      "       'speechiness', 'acousticness', 'instrumentalness', 'liveness',\n",
      "       'valence', 'tempo', 'time_signature', 'track_genre'],\n",
      "      dtype='object')\n"
     ]
    }
   ],
   "source": [
    "df = pd.read_csv('spotify.csv')\n",
    "print(df.columns)\n",
    "print(df.head())\n",
    "df = df.drop(['Unnamed: 0','track_id'], axis='columns')\n",
    "print(df.columns)\n",
    "exploded_df = df.explode('track_genre')"
   ]
  },
  {
   "cell_type": "markdown",
   "id": "d339f808",
   "metadata": {},
   "source": [
    "## Exploded df with all the genres having a separate column and boolean values depending on whether they belong to that genre or not"
   ]
  },
  {
   "cell_type": "code",
   "execution_count": 4,
   "id": "3006b997",
   "metadata": {},
   "outputs": [
    {
     "name": "stderr",
     "output_type": "stream",
     "text": [
      "/var/folders/tr/7vyd9xfn4817p8wdpzlw862m0000gn/T/ipykernel_97542/932512162.py:3: PerformanceWarning: DataFrame is highly fragmented.  This is usually the result of calling `frame.insert` many times, which has poor performance.  Consider joining all columns at once using pd.concat(axis=1) instead. To get a de-fragmented frame, use `newframe = frame.copy()`\n",
      "  df[genre] = df['track_genre'].apply(lambda x: 1 if genre in x else 0)\n",
      "/var/folders/tr/7vyd9xfn4817p8wdpzlw862m0000gn/T/ipykernel_97542/932512162.py:3: PerformanceWarning: DataFrame is highly fragmented.  This is usually the result of calling `frame.insert` many times, which has poor performance.  Consider joining all columns at once using pd.concat(axis=1) instead. To get a de-fragmented frame, use `newframe = frame.copy()`\n",
      "  df[genre] = df['track_genre'].apply(lambda x: 1 if genre in x else 0)\n",
      "/var/folders/tr/7vyd9xfn4817p8wdpzlw862m0000gn/T/ipykernel_97542/932512162.py:3: PerformanceWarning: DataFrame is highly fragmented.  This is usually the result of calling `frame.insert` many times, which has poor performance.  Consider joining all columns at once using pd.concat(axis=1) instead. To get a de-fragmented frame, use `newframe = frame.copy()`\n",
      "  df[genre] = df['track_genre'].apply(lambda x: 1 if genre in x else 0)\n",
      "/var/folders/tr/7vyd9xfn4817p8wdpzlw862m0000gn/T/ipykernel_97542/932512162.py:3: PerformanceWarning: DataFrame is highly fragmented.  This is usually the result of calling `frame.insert` many times, which has poor performance.  Consider joining all columns at once using pd.concat(axis=1) instead. To get a de-fragmented frame, use `newframe = frame.copy()`\n",
      "  df[genre] = df['track_genre'].apply(lambda x: 1 if genre in x else 0)\n",
      "/var/folders/tr/7vyd9xfn4817p8wdpzlw862m0000gn/T/ipykernel_97542/932512162.py:3: PerformanceWarning: DataFrame is highly fragmented.  This is usually the result of calling `frame.insert` many times, which has poor performance.  Consider joining all columns at once using pd.concat(axis=1) instead. To get a de-fragmented frame, use `newframe = frame.copy()`\n",
      "  df[genre] = df['track_genre'].apply(lambda x: 1 if genre in x else 0)\n",
      "/var/folders/tr/7vyd9xfn4817p8wdpzlw862m0000gn/T/ipykernel_97542/932512162.py:3: PerformanceWarning: DataFrame is highly fragmented.  This is usually the result of calling `frame.insert` many times, which has poor performance.  Consider joining all columns at once using pd.concat(axis=1) instead. To get a de-fragmented frame, use `newframe = frame.copy()`\n",
      "  df[genre] = df['track_genre'].apply(lambda x: 1 if genre in x else 0)\n",
      "/var/folders/tr/7vyd9xfn4817p8wdpzlw862m0000gn/T/ipykernel_97542/932512162.py:3: PerformanceWarning: DataFrame is highly fragmented.  This is usually the result of calling `frame.insert` many times, which has poor performance.  Consider joining all columns at once using pd.concat(axis=1) instead. To get a de-fragmented frame, use `newframe = frame.copy()`\n",
      "  df[genre] = df['track_genre'].apply(lambda x: 1 if genre in x else 0)\n",
      "/var/folders/tr/7vyd9xfn4817p8wdpzlw862m0000gn/T/ipykernel_97542/932512162.py:3: PerformanceWarning: DataFrame is highly fragmented.  This is usually the result of calling `frame.insert` many times, which has poor performance.  Consider joining all columns at once using pd.concat(axis=1) instead. To get a de-fragmented frame, use `newframe = frame.copy()`\n",
      "  df[genre] = df['track_genre'].apply(lambda x: 1 if genre in x else 0)\n",
      "/var/folders/tr/7vyd9xfn4817p8wdpzlw862m0000gn/T/ipykernel_97542/932512162.py:3: PerformanceWarning: DataFrame is highly fragmented.  This is usually the result of calling `frame.insert` many times, which has poor performance.  Consider joining all columns at once using pd.concat(axis=1) instead. To get a de-fragmented frame, use `newframe = frame.copy()`\n",
      "  df[genre] = df['track_genre'].apply(lambda x: 1 if genre in x else 0)\n",
      "/var/folders/tr/7vyd9xfn4817p8wdpzlw862m0000gn/T/ipykernel_97542/932512162.py:3: PerformanceWarning: DataFrame is highly fragmented.  This is usually the result of calling `frame.insert` many times, which has poor performance.  Consider joining all columns at once using pd.concat(axis=1) instead. To get a de-fragmented frame, use `newframe = frame.copy()`\n",
      "  df[genre] = df['track_genre'].apply(lambda x: 1 if genre in x else 0)\n",
      "/var/folders/tr/7vyd9xfn4817p8wdpzlw862m0000gn/T/ipykernel_97542/932512162.py:3: PerformanceWarning: DataFrame is highly fragmented.  This is usually the result of calling `frame.insert` many times, which has poor performance.  Consider joining all columns at once using pd.concat(axis=1) instead. To get a de-fragmented frame, use `newframe = frame.copy()`\n",
      "  df[genre] = df['track_genre'].apply(lambda x: 1 if genre in x else 0)\n",
      "/var/folders/tr/7vyd9xfn4817p8wdpzlw862m0000gn/T/ipykernel_97542/932512162.py:3: PerformanceWarning: DataFrame is highly fragmented.  This is usually the result of calling `frame.insert` many times, which has poor performance.  Consider joining all columns at once using pd.concat(axis=1) instead. To get a de-fragmented frame, use `newframe = frame.copy()`\n",
      "  df[genre] = df['track_genre'].apply(lambda x: 1 if genre in x else 0)\n",
      "/var/folders/tr/7vyd9xfn4817p8wdpzlw862m0000gn/T/ipykernel_97542/932512162.py:3: PerformanceWarning: DataFrame is highly fragmented.  This is usually the result of calling `frame.insert` many times, which has poor performance.  Consider joining all columns at once using pd.concat(axis=1) instead. To get a de-fragmented frame, use `newframe = frame.copy()`\n",
      "  df[genre] = df['track_genre'].apply(lambda x: 1 if genre in x else 0)\n",
      "/var/folders/tr/7vyd9xfn4817p8wdpzlw862m0000gn/T/ipykernel_97542/932512162.py:3: PerformanceWarning: DataFrame is highly fragmented.  This is usually the result of calling `frame.insert` many times, which has poor performance.  Consider joining all columns at once using pd.concat(axis=1) instead. To get a de-fragmented frame, use `newframe = frame.copy()`\n",
      "  df[genre] = df['track_genre'].apply(lambda x: 1 if genre in x else 0)\n"
     ]
    },
    {
     "name": "stdout",
     "output_type": "stream",
     "text": [
      "Index(['artists', 'album_name', 'track_name', 'popularity', 'duration_ms',\n",
      "       'explicit', 'danceability', 'energy', 'key', 'loudness',\n",
      "       ...\n",
      "       'spanish', 'study', 'swedish', 'synth-pop', 'tango', 'techno', 'trance',\n",
      "       'trip-hop', 'turkish', 'world-music'],\n",
      "      dtype='object', length=132)\n"
     ]
    },
    {
     "name": "stderr",
     "output_type": "stream",
     "text": [
      "/var/folders/tr/7vyd9xfn4817p8wdpzlw862m0000gn/T/ipykernel_97542/932512162.py:3: PerformanceWarning: DataFrame is highly fragmented.  This is usually the result of calling `frame.insert` many times, which has poor performance.  Consider joining all columns at once using pd.concat(axis=1) instead. To get a de-fragmented frame, use `newframe = frame.copy()`\n",
      "  df[genre] = df['track_genre'].apply(lambda x: 1 if genre in x else 0)\n",
      "/var/folders/tr/7vyd9xfn4817p8wdpzlw862m0000gn/T/ipykernel_97542/932512162.py:3: PerformanceWarning: DataFrame is highly fragmented.  This is usually the result of calling `frame.insert` many times, which has poor performance.  Consider joining all columns at once using pd.concat(axis=1) instead. To get a de-fragmented frame, use `newframe = frame.copy()`\n",
      "  df[genre] = df['track_genre'].apply(lambda x: 1 if genre in x else 0)\n",
      "/var/folders/tr/7vyd9xfn4817p8wdpzlw862m0000gn/T/ipykernel_97542/932512162.py:3: PerformanceWarning: DataFrame is highly fragmented.  This is usually the result of calling `frame.insert` many times, which has poor performance.  Consider joining all columns at once using pd.concat(axis=1) instead. To get a de-fragmented frame, use `newframe = frame.copy()`\n",
      "  df[genre] = df['track_genre'].apply(lambda x: 1 if genre in x else 0)\n",
      "/var/folders/tr/7vyd9xfn4817p8wdpzlw862m0000gn/T/ipykernel_97542/932512162.py:3: PerformanceWarning: DataFrame is highly fragmented.  This is usually the result of calling `frame.insert` many times, which has poor performance.  Consider joining all columns at once using pd.concat(axis=1) instead. To get a de-fragmented frame, use `newframe = frame.copy()`\n",
      "  df[genre] = df['track_genre'].apply(lambda x: 1 if genre in x else 0)\n"
     ]
    }
   ],
   "source": [
    "genres = exploded_df['track_genre'].unique()\n",
    "for genre in genres:\n",
    "    df[genre] = df['track_genre'].apply(lambda x: 1 if genre in x else 0)\n",
    "df.drop(columns=['track_genre'], inplace=True)\n",
    "print(df.columns)"
   ]
  },
  {
   "cell_type": "code",
   "execution_count": 5,
   "id": "2f4be123",
   "metadata": {},
   "outputs": [
    {
     "name": "stdout",
     "output_type": "stream",
     "text": [
      "15048000\n"
     ]
    }
   ],
   "source": [
    "print(df.size)"
   ]
  },
  {
   "cell_type": "code",
   "execution_count": 6,
   "id": "36fbe0a0",
   "metadata": {},
   "outputs": [
    {
     "name": "stdout",
     "output_type": "stream",
     "text": [
      "(114000, 132)\n"
     ]
    }
   ],
   "source": [
    "print(df.shape)"
   ]
  },
  {
   "cell_type": "markdown",
   "id": "ddf1497c",
   "metadata": {},
   "source": [
    "## Insert a separate column for Result which indicates whether the song was popular or not"
   ]
  },
  {
   "cell_type": "code",
   "execution_count": 7,
   "id": "234eb1fd",
   "metadata": {},
   "outputs": [
    {
     "name": "stdout",
     "output_type": "stream",
     "text": [
      "['Yes', 'Yes', 'Yes', 'Yes', 'Yes']\n"
     ]
    },
    {
     "name": "stderr",
     "output_type": "stream",
     "text": [
      "/var/folders/tr/7vyd9xfn4817p8wdpzlw862m0000gn/T/ipykernel_97542/445262401.py:8: PerformanceWarning: DataFrame is highly fragmented.  This is usually the result of calling `frame.insert` many times, which has poor performance.  Consider joining all columns at once using pd.concat(axis=1) instead. To get a de-fragmented frame, use `newframe = frame.copy()`\n",
      "  df['Result'] = result\n"
     ]
    },
    {
     "data": {
      "text/plain": [
       "(114000, 133)"
      ]
     },
     "execution_count": 7,
     "metadata": {},
     "output_type": "execute_result"
    }
   ],
   "source": [
    "result = []\n",
    "for i in df['popularity']:\n",
    "    if i>=0.6:\n",
    "        result.append('Yes')\n",
    "    else:\n",
    "        result.append('No')\n",
    "print(result[:5])\n",
    "df['Result'] = result\n",
    "df.shape"
   ]
  },
  {
   "cell_type": "markdown",
   "id": "8c81ca98",
   "metadata": {},
   "source": [
    "## Insert another column of popularity index(pop_index) separting the tracks into Popular, Neutral or NotPopular (-1,0,1)"
   ]
  },
  {
   "cell_type": "code",
   "execution_count": 8,
   "id": "ef29d5c2",
   "metadata": {},
   "outputs": [
    {
     "name": "stderr",
     "output_type": "stream",
     "text": [
      "/var/folders/tr/7vyd9xfn4817p8wdpzlw862m0000gn/T/ipykernel_97542/1647889354.py:9: PerformanceWarning: DataFrame is highly fragmented.  This is usually the result of calling `frame.insert` many times, which has poor performance.  Consider joining all columns at once using pd.concat(axis=1) instead. To get a de-fragmented frame, use `newframe = frame.copy()`\n",
      "  df['pop_index'] = pop_index\n"
     ]
    }
   ],
   "source": [
    "pop_index = []\n",
    "for i in df['popularity']:\n",
    "    if i<0.33:\n",
    "        pop_index.append(-1)\n",
    "    elif i>=0.33 and 0.67:\n",
    "        pop_index.append(0)\n",
    "    else:\n",
    "        pop_index.append(1)\n",
    "df['pop_index'] = pop_index"
   ]
  },
  {
   "cell_type": "code",
   "execution_count": 9,
   "id": "a96fa0b0",
   "metadata": {},
   "outputs": [
    {
     "name": "stdout",
     "output_type": "stream",
     "text": [
      "          popularity   duration_ms   danceability         energy   \n",
      "count  114000.000000  1.140000e+05  114000.000000  114000.000000  \\\n",
      "mean       33.238535  2.280292e+05       0.566800       0.641383   \n",
      "std        22.305078  1.072977e+05       0.173542       0.251529   \n",
      "min         0.000000  0.000000e+00       0.000000       0.000000   \n",
      "25%        17.000000  1.740660e+05       0.456000       0.472000   \n",
      "50%        35.000000  2.129060e+05       0.580000       0.685000   \n",
      "75%        50.000000  2.615060e+05       0.695000       0.854000   \n",
      "max       100.000000  5.237295e+06       0.985000       1.000000   \n",
      "\n",
      "                 key       loudness           mode    speechiness   \n",
      "count  114000.000000  114000.000000  114000.000000  114000.000000  \\\n",
      "mean        5.309140      -8.258960       0.637553       0.084652   \n",
      "std         3.559987       5.029337       0.480709       0.105732   \n",
      "min         0.000000     -49.531000       0.000000       0.000000   \n",
      "25%         2.000000     -10.013000       0.000000       0.035900   \n",
      "50%         5.000000      -7.004000       1.000000       0.048900   \n",
      "75%         8.000000      -5.003000       1.000000       0.084500   \n",
      "max        11.000000       4.532000       1.000000       0.965000   \n",
      "\n",
      "        acousticness  instrumentalness  ...          study        swedish   \n",
      "count  114000.000000     114000.000000  ...  114000.000000  114000.000000  \\\n",
      "mean        0.314910          0.156050  ...       0.008772       0.008772   \n",
      "std         0.332523          0.309555  ...       0.093247       0.093247   \n",
      "min         0.000000          0.000000  ...       0.000000       0.000000   \n",
      "25%         0.016900          0.000000  ...       0.000000       0.000000   \n",
      "50%         0.169000          0.000042  ...       0.000000       0.000000   \n",
      "75%         0.598000          0.049000  ...       0.000000       0.000000   \n",
      "max         0.996000          1.000000  ...       1.000000       1.000000   \n",
      "\n",
      "           synth-pop          tango         techno         trance   \n",
      "count  114000.000000  114000.000000  114000.000000  114000.000000  \\\n",
      "mean        0.008772       0.008772       0.026316       0.008772   \n",
      "std         0.093247       0.093247       0.160073       0.093247   \n",
      "min         0.000000       0.000000       0.000000       0.000000   \n",
      "25%         0.000000       0.000000       0.000000       0.000000   \n",
      "50%         0.000000       0.000000       0.000000       0.000000   \n",
      "75%         0.000000       0.000000       0.000000       0.000000   \n",
      "max         1.000000       1.000000       1.000000       1.000000   \n",
      "\n",
      "            trip-hop        turkish    world-music      pop_index  \n",
      "count  114000.000000  114000.000000  114000.000000  114000.000000  \n",
      "mean        0.008772       0.008772       0.008772      -0.140526  \n",
      "std         0.093247       0.093247       0.093247       0.347534  \n",
      "min         0.000000       0.000000       0.000000      -1.000000  \n",
      "25%         0.000000       0.000000       0.000000       0.000000  \n",
      "50%         0.000000       0.000000       0.000000       0.000000  \n",
      "75%         0.000000       0.000000       0.000000       0.000000  \n",
      "max         1.000000       1.000000       1.000000       0.000000  \n",
      "\n",
      "[8 rows x 129 columns]\n"
     ]
    }
   ],
   "source": [
    "print(df.describe())"
   ]
  },
  {
   "cell_type": "markdown",
   "id": "4d5f104e",
   "metadata": {},
   "source": [
    "## Drop the rows with null values to avoid errors"
   ]
  },
  {
   "cell_type": "code",
   "execution_count": 10,
   "id": "9708fc01",
   "metadata": {},
   "outputs": [
    {
     "name": "stdout",
     "output_type": "stream",
     "text": [
      "3\n",
      "0\n"
     ]
    },
    {
     "data": {
      "text/plain": [
       "artists         int64\n",
       "album_name      int64\n",
       "track_name      int64\n",
       "popularity      int64\n",
       "duration_ms     int64\n",
       "                ...  \n",
       "trip-hop        int64\n",
       "turkish         int64\n",
       "world-music     int64\n",
       "Result         object\n",
       "pop_index       int64\n",
       "Length: 134, dtype: object"
      ]
     },
     "execution_count": 10,
     "metadata": {},
     "output_type": "execute_result"
    }
   ],
   "source": [
    "nan_count = df.isnull().sum().sum()\n",
    "print(nan_count)\n",
    "df = df.dropna()\n",
    "nan_count = df.isnull().sum().sum()\n",
    "print(nan_count)\n",
    "# df.dtypes\n",
    "df['artists'] = pd.factorize(df['artists'])[0]\n",
    "df['album_name'] = pd.factorize(df['album_name'])[0]\n",
    "df['track_name'] = pd.factorize(df['track_name'])[0]\n",
    "df.dtypes"
   ]
  },
  {
   "cell_type": "markdown",
   "id": "7b75cf82",
   "metadata": {},
   "source": [
    "## Scale the data of specified columns using MinMaxScaler in a range of (0,1)"
   ]
  },
  {
   "cell_type": "code",
   "execution_count": 11,
   "id": "efa8e8db",
   "metadata": {},
   "outputs": [
    {
     "data": {
      "text/html": [
       "<div>\n",
       "<style scoped>\n",
       "    .dataframe tbody tr th:only-of-type {\n",
       "        vertical-align: middle;\n",
       "    }\n",
       "\n",
       "    .dataframe tbody tr th {\n",
       "        vertical-align: top;\n",
       "    }\n",
       "\n",
       "    .dataframe thead th {\n",
       "        text-align: right;\n",
       "    }\n",
       "</style>\n",
       "<table border=\"1\" class=\"dataframe\">\n",
       "  <thead>\n",
       "    <tr style=\"text-align: right;\">\n",
       "      <th></th>\n",
       "      <th>artists</th>\n",
       "      <th>album_name</th>\n",
       "      <th>track_name</th>\n",
       "      <th>popularity</th>\n",
       "      <th>duration_ms</th>\n",
       "      <th>danceability</th>\n",
       "      <th>energy</th>\n",
       "      <th>key</th>\n",
       "      <th>loudness</th>\n",
       "      <th>mode</th>\n",
       "      <th>...</th>\n",
       "      <th>study</th>\n",
       "      <th>swedish</th>\n",
       "      <th>synth-pop</th>\n",
       "      <th>tango</th>\n",
       "      <th>techno</th>\n",
       "      <th>trance</th>\n",
       "      <th>trip-hop</th>\n",
       "      <th>turkish</th>\n",
       "      <th>world-music</th>\n",
       "      <th>pop_index</th>\n",
       "    </tr>\n",
       "  </thead>\n",
       "  <tbody>\n",
       "    <tr>\n",
       "      <th>count</th>\n",
       "      <td>113999.000000</td>\n",
       "      <td>113999.000000</td>\n",
       "      <td>113999.000000</td>\n",
       "      <td>113999.000000</td>\n",
       "      <td>113999.000000</td>\n",
       "      <td>113999.000000</td>\n",
       "      <td>113999.000000</td>\n",
       "      <td>113999.000000</td>\n",
       "      <td>113999.000000</td>\n",
       "      <td>113999.000000</td>\n",
       "      <td>...</td>\n",
       "      <td>113999.000000</td>\n",
       "      <td>113999.000000</td>\n",
       "      <td>113999.000000</td>\n",
       "      <td>113999.000000</td>\n",
       "      <td>113999.000000</td>\n",
       "      <td>113999.000000</td>\n",
       "      <td>113999.000000</td>\n",
       "      <td>113999.000000</td>\n",
       "      <td>113999.000000</td>\n",
       "      <td>113999.000000</td>\n",
       "    </tr>\n",
       "    <tr>\n",
       "      <th>mean</th>\n",
       "      <td>0.443883</td>\n",
       "      <td>0.409699</td>\n",
       "      <td>0.443528</td>\n",
       "      <td>0.332388</td>\n",
       "      <td>0.041969</td>\n",
       "      <td>0.566801</td>\n",
       "      <td>0.641383</td>\n",
       "      <td>5.309126</td>\n",
       "      <td>-8.258950</td>\n",
       "      <td>0.637558</td>\n",
       "      <td>...</td>\n",
       "      <td>0.008772</td>\n",
       "      <td>0.008772</td>\n",
       "      <td>0.008772</td>\n",
       "      <td>0.008772</td>\n",
       "      <td>0.026316</td>\n",
       "      <td>0.008772</td>\n",
       "      <td>0.008772</td>\n",
       "      <td>0.008772</td>\n",
       "      <td>0.008772</td>\n",
       "      <td>-0.140519</td>\n",
       "    </tr>\n",
       "    <tr>\n",
       "      <th>std</th>\n",
       "      <td>0.291970</td>\n",
       "      <td>0.294490</td>\n",
       "      <td>0.289543</td>\n",
       "      <td>0.223050</td>\n",
       "      <td>0.020521</td>\n",
       "      <td>0.173543</td>\n",
       "      <td>0.251530</td>\n",
       "      <td>3.559999</td>\n",
       "      <td>5.029357</td>\n",
       "      <td>0.480708</td>\n",
       "      <td>...</td>\n",
       "      <td>0.093248</td>\n",
       "      <td>0.093248</td>\n",
       "      <td>0.093248</td>\n",
       "      <td>0.093248</td>\n",
       "      <td>0.160074</td>\n",
       "      <td>0.093248</td>\n",
       "      <td>0.093248</td>\n",
       "      <td>0.093248</td>\n",
       "      <td>0.093248</td>\n",
       "      <td>0.347526</td>\n",
       "    </tr>\n",
       "    <tr>\n",
       "      <th>min</th>\n",
       "      <td>0.000000</td>\n",
       "      <td>0.000000</td>\n",
       "      <td>0.000000</td>\n",
       "      <td>0.000000</td>\n",
       "      <td>0.000000</td>\n",
       "      <td>0.000000</td>\n",
       "      <td>0.000000</td>\n",
       "      <td>0.000000</td>\n",
       "      <td>-49.531000</td>\n",
       "      <td>0.000000</td>\n",
       "      <td>...</td>\n",
       "      <td>0.000000</td>\n",
       "      <td>0.000000</td>\n",
       "      <td>0.000000</td>\n",
       "      <td>0.000000</td>\n",
       "      <td>0.000000</td>\n",
       "      <td>0.000000</td>\n",
       "      <td>0.000000</td>\n",
       "      <td>0.000000</td>\n",
       "      <td>0.000000</td>\n",
       "      <td>-1.000000</td>\n",
       "    </tr>\n",
       "    <tr>\n",
       "      <th>25%</th>\n",
       "      <td>0.181448</td>\n",
       "      <td>0.139435</td>\n",
       "      <td>0.192679</td>\n",
       "      <td>0.170000</td>\n",
       "      <td>0.031648</td>\n",
       "      <td>0.456000</td>\n",
       "      <td>0.472000</td>\n",
       "      <td>2.000000</td>\n",
       "      <td>-10.013000</td>\n",
       "      <td>0.000000</td>\n",
       "      <td>...</td>\n",
       "      <td>0.000000</td>\n",
       "      <td>0.000000</td>\n",
       "      <td>0.000000</td>\n",
       "      <td>0.000000</td>\n",
       "      <td>0.000000</td>\n",
       "      <td>0.000000</td>\n",
       "      <td>0.000000</td>\n",
       "      <td>0.000000</td>\n",
       "      <td>0.000000</td>\n",
       "      <td>0.000000</td>\n",
       "    </tr>\n",
       "    <tr>\n",
       "      <th>50%</th>\n",
       "      <td>0.442741</td>\n",
       "      <td>0.361402</td>\n",
       "      <td>0.413602</td>\n",
       "      <td>0.350000</td>\n",
       "      <td>0.039077</td>\n",
       "      <td>0.580000</td>\n",
       "      <td>0.685000</td>\n",
       "      <td>5.000000</td>\n",
       "      <td>-7.004000</td>\n",
       "      <td>1.000000</td>\n",
       "      <td>...</td>\n",
       "      <td>0.000000</td>\n",
       "      <td>0.000000</td>\n",
       "      <td>0.000000</td>\n",
       "      <td>0.000000</td>\n",
       "      <td>0.000000</td>\n",
       "      <td>0.000000</td>\n",
       "      <td>0.000000</td>\n",
       "      <td>0.000000</td>\n",
       "      <td>0.000000</td>\n",
       "      <td>0.000000</td>\n",
       "    </tr>\n",
       "    <tr>\n",
       "      <th>75%</th>\n",
       "      <td>0.677981</td>\n",
       "      <td>0.648225</td>\n",
       "      <td>0.684344</td>\n",
       "      <td>0.500000</td>\n",
       "      <td>0.048371</td>\n",
       "      <td>0.695000</td>\n",
       "      <td>0.854000</td>\n",
       "      <td>8.000000</td>\n",
       "      <td>-5.003000</td>\n",
       "      <td>1.000000</td>\n",
       "      <td>...</td>\n",
       "      <td>0.000000</td>\n",
       "      <td>0.000000</td>\n",
       "      <td>0.000000</td>\n",
       "      <td>0.000000</td>\n",
       "      <td>0.000000</td>\n",
       "      <td>0.000000</td>\n",
       "      <td>0.000000</td>\n",
       "      <td>0.000000</td>\n",
       "      <td>0.000000</td>\n",
       "      <td>0.000000</td>\n",
       "    </tr>\n",
       "    <tr>\n",
       "      <th>max</th>\n",
       "      <td>1.000000</td>\n",
       "      <td>1.000000</td>\n",
       "      <td>1.000000</td>\n",
       "      <td>1.000000</td>\n",
       "      <td>1.000000</td>\n",
       "      <td>0.985000</td>\n",
       "      <td>1.000000</td>\n",
       "      <td>11.000000</td>\n",
       "      <td>4.532000</td>\n",
       "      <td>1.000000</td>\n",
       "      <td>...</td>\n",
       "      <td>1.000000</td>\n",
       "      <td>1.000000</td>\n",
       "      <td>1.000000</td>\n",
       "      <td>1.000000</td>\n",
       "      <td>1.000000</td>\n",
       "      <td>1.000000</td>\n",
       "      <td>1.000000</td>\n",
       "      <td>1.000000</td>\n",
       "      <td>1.000000</td>\n",
       "      <td>0.000000</td>\n",
       "    </tr>\n",
       "  </tbody>\n",
       "</table>\n",
       "<p>8 rows × 132 columns</p>\n",
       "</div>"
      ],
      "text/plain": [
       "             artists     album_name     track_name     popularity   \n",
       "count  113999.000000  113999.000000  113999.000000  113999.000000  \\\n",
       "mean        0.443883       0.409699       0.443528       0.332388   \n",
       "std         0.291970       0.294490       0.289543       0.223050   \n",
       "min         0.000000       0.000000       0.000000       0.000000   \n",
       "25%         0.181448       0.139435       0.192679       0.170000   \n",
       "50%         0.442741       0.361402       0.413602       0.350000   \n",
       "75%         0.677981       0.648225       0.684344       0.500000   \n",
       "max         1.000000       1.000000       1.000000       1.000000   \n",
       "\n",
       "         duration_ms   danceability         energy            key   \n",
       "count  113999.000000  113999.000000  113999.000000  113999.000000  \\\n",
       "mean        0.041969       0.566801       0.641383       5.309126   \n",
       "std         0.020521       0.173543       0.251530       3.559999   \n",
       "min         0.000000       0.000000       0.000000       0.000000   \n",
       "25%         0.031648       0.456000       0.472000       2.000000   \n",
       "50%         0.039077       0.580000       0.685000       5.000000   \n",
       "75%         0.048371       0.695000       0.854000       8.000000   \n",
       "max         1.000000       0.985000       1.000000      11.000000   \n",
       "\n",
       "            loudness           mode  ...          study        swedish   \n",
       "count  113999.000000  113999.000000  ...  113999.000000  113999.000000  \\\n",
       "mean       -8.258950       0.637558  ...       0.008772       0.008772   \n",
       "std         5.029357       0.480708  ...       0.093248       0.093248   \n",
       "min       -49.531000       0.000000  ...       0.000000       0.000000   \n",
       "25%       -10.013000       0.000000  ...       0.000000       0.000000   \n",
       "50%        -7.004000       1.000000  ...       0.000000       0.000000   \n",
       "75%        -5.003000       1.000000  ...       0.000000       0.000000   \n",
       "max         4.532000       1.000000  ...       1.000000       1.000000   \n",
       "\n",
       "           synth-pop          tango         techno         trance   \n",
       "count  113999.000000  113999.000000  113999.000000  113999.000000  \\\n",
       "mean        0.008772       0.008772       0.026316       0.008772   \n",
       "std         0.093248       0.093248       0.160074       0.093248   \n",
       "min         0.000000       0.000000       0.000000       0.000000   \n",
       "25%         0.000000       0.000000       0.000000       0.000000   \n",
       "50%         0.000000       0.000000       0.000000       0.000000   \n",
       "75%         0.000000       0.000000       0.000000       0.000000   \n",
       "max         1.000000       1.000000       1.000000       1.000000   \n",
       "\n",
       "            trip-hop        turkish    world-music      pop_index  \n",
       "count  113999.000000  113999.000000  113999.000000  113999.000000  \n",
       "mean        0.008772       0.008772       0.008772      -0.140519  \n",
       "std         0.093248       0.093248       0.093248       0.347526  \n",
       "min         0.000000       0.000000       0.000000      -1.000000  \n",
       "25%         0.000000       0.000000       0.000000       0.000000  \n",
       "50%         0.000000       0.000000       0.000000       0.000000  \n",
       "75%         0.000000       0.000000       0.000000       0.000000  \n",
       "max         1.000000       1.000000       1.000000       0.000000  \n",
       "\n",
       "[8 rows x 132 columns]"
      ]
     },
     "execution_count": 11,
     "metadata": {},
     "output_type": "execute_result"
    }
   ],
   "source": [
    "columns_to_be_scaled = ['artists','album_name','track_name','popularity','duration_ms','tempo','time_signature']\n",
    "scaler = MinMaxScaler(feature_range=(0,1))\n",
    "df[columns_to_be_scaled] = scaler.fit_transform(df[columns_to_be_scaled])\n",
    "# print(df.head)\n",
    "df.describe()"
   ]
  },
  {
   "cell_type": "markdown",
   "id": "87a3ad7b",
   "metadata": {},
   "source": [
    "## Split the dataframe for training and testing using train_test_split()\n",
    "## I have 3 separate train and test tables for 3 types of predicitons, y for Linear Regression, z for DecisonTreeClassifier and p for LogisticRegression"
   ]
  },
  {
   "cell_type": "code",
   "execution_count": 12,
   "id": "ab28c13c",
   "metadata": {},
   "outputs": [
    {
     "name": "stdout",
     "output_type": "stream",
     "text": [
      "(34200, 132)\n",
      "(79799, 132)\n",
      "(79799,)\n",
      "(34200,)\n",
      "(79799,)\n",
      "(34200,)\n"
     ]
    }
   ],
   "source": [
    "x = df.drop(['popularity','Result'], axis='columns')\n",
    "X = df.drop(['pop_index'],axis='columns')\n",
    "y = df['popularity']\n",
    "z = df['Result']\n",
    "p = df['pop_index']\n",
    "X_train,X_test,x_train, x_test, y_train, y_test, z_train,z_test,p_train, p_test= train_test_split(X,x,y,z,p,test_size=0.3, random_state=101)\n",
    "print(x_test.shape)\n",
    "print(x_train.shape)\n",
    "print(y_train.shape)\n",
    "print(y_test.shape)\n",
    "print(z_train.shape)\n",
    "print(z_test.shape)"
   ]
  },
  {
   "cell_type": "code",
   "execution_count": 13,
   "id": "522f2655",
   "metadata": {},
   "outputs": [
    {
     "name": "stdout",
     "output_type": "stream",
     "text": [
      "0.73\n"
     ]
    }
   ],
   "source": [
    "print(y_test[0])"
   ]
  },
  {
   "cell_type": "code",
   "execution_count": 14,
   "id": "83f4c87b",
   "metadata": {},
   "outputs": [
    {
     "name": "stdout",
     "output_type": "stream",
     "text": [
      "            artists    album_name    track_name   duration_ms  danceability   \n",
      "count  34200.000000  34200.000000  34200.000000  34200.000000  34200.000000  \\\n",
      "mean       0.444223      0.409479      0.444009      0.041897      0.568453   \n",
      "std        0.291066      0.293743      0.288424      0.020726      0.172880   \n",
      "min        0.000000      0.000000      0.000000      0.000000      0.000000   \n",
      "25%        0.181893      0.141034      0.195600      0.031597      0.459000   \n",
      "50%        0.446669      0.363323      0.415253      0.039056      0.582000   \n",
      "75%        0.676899      0.645493      0.682476      0.048247      0.696000   \n",
      "max        1.000000      1.000000      0.999973      0.903037      0.981000   \n",
      "\n",
      "             energy           key      loudness          mode   speechiness   \n",
      "count  34200.000000  34200.000000  34200.000000  34200.000000  34200.000000  \\\n",
      "mean       0.644422      5.290117     -8.212494      0.636930      0.085167   \n",
      "std        0.249364      3.558205      4.971696      0.480892      0.107331   \n",
      "min        0.000000      0.000000    -49.307000      0.000000      0.000000   \n",
      "25%        0.478000      2.000000     -9.951000      0.000000      0.035900   \n",
      "50%        0.687000      5.000000     -6.961000      1.000000      0.049100   \n",
      "75%        0.854000      8.000000     -5.023000      1.000000      0.084500   \n",
      "max        1.000000     11.000000      4.532000      1.000000      0.963000   \n",
      "\n",
      "       ...         study       swedish     synth-pop         tango   \n",
      "count  ...  34200.000000  34200.000000  34200.000000  34200.000000  \\\n",
      "mean   ...      0.009474      0.008509      0.008889      0.008655   \n",
      "std    ...      0.096872      0.091851      0.093862      0.092630   \n",
      "min    ...      0.000000      0.000000      0.000000      0.000000   \n",
      "25%    ...      0.000000      0.000000      0.000000      0.000000   \n",
      "50%    ...      0.000000      0.000000      0.000000      0.000000   \n",
      "75%    ...      0.000000      0.000000      0.000000      0.000000   \n",
      "max    ...      1.000000      1.000000      1.000000      1.000000   \n",
      "\n",
      "             techno        trance      trip-hop       turkish   world-music   \n",
      "count  34200.000000  34200.000000  34200.000000  34200.000000  34200.000000  \\\n",
      "mean       0.025556      0.008918      0.008421      0.008713      0.008392   \n",
      "std        0.157807      0.094015      0.091380      0.092940      0.091223   \n",
      "min        0.000000      0.000000      0.000000      0.000000      0.000000   \n",
      "25%        0.000000      0.000000      0.000000      0.000000      0.000000   \n",
      "50%        0.000000      0.000000      0.000000      0.000000      0.000000   \n",
      "75%        0.000000      0.000000      0.000000      0.000000      0.000000   \n",
      "max        1.000000      1.000000      1.000000      1.000000      1.000000   \n",
      "\n",
      "          pop_index  \n",
      "count  34200.000000  \n",
      "mean      -0.139123  \n",
      "std        0.346080  \n",
      "min       -1.000000  \n",
      "25%        0.000000  \n",
      "50%        0.000000  \n",
      "75%        0.000000  \n",
      "max        0.000000  \n",
      "\n",
      "[8 rows x 131 columns]\n"
     ]
    }
   ],
   "source": [
    "print(x_test.describe())"
   ]
  },
  {
   "cell_type": "code",
   "execution_count": 15,
   "id": "feca342b",
   "metadata": {},
   "outputs": [
    {
     "data": {
      "text/plain": [
       "31437"
      ]
     },
     "execution_count": 15,
     "metadata": {},
     "output_type": "execute_result"
    }
   ],
   "source": [
    "len(df['artists'].unique())"
   ]
  },
  {
   "cell_type": "markdown",
   "id": "51657644",
   "metadata": {},
   "source": [
    "## LinearRegression and it's accuracy"
   ]
  },
  {
   "cell_type": "code",
   "execution_count": 16,
   "id": "e4ad793d",
   "metadata": {},
   "outputs": [
    {
     "data": {
      "text/plain": [
       "0.5910678017920459"
      ]
     },
     "execution_count": 16,
     "metadata": {},
     "output_type": "execute_result"
    }
   ],
   "source": [
    "lr = LinearRegression()\n",
    "lr.fit(x_train,y_train)\n",
    "lr.score(x_test,y_test)"
   ]
  },
  {
   "cell_type": "code",
   "execution_count": 17,
   "id": "d30441a9",
   "metadata": {},
   "outputs": [
    {
     "data": {
      "text/plain": [
       "0.5910678017920459"
      ]
     },
     "execution_count": 17,
     "metadata": {},
     "output_type": "execute_result"
    }
   ],
   "source": [
    "y_pred=lr.predict(x_test)\n",
    "lr.score(x_test,y_test)"
   ]
  },
  {
   "cell_type": "markdown",
   "id": "3a46d469",
   "metadata": {},
   "source": [
    "## Checking the mean squared error"
   ]
  },
  {
   "cell_type": "code",
   "execution_count": 18,
   "id": "f762cf85",
   "metadata": {},
   "outputs": [
    {
     "name": "stdout",
     "output_type": "stream",
     "text": [
      "0.02037187762193875\n"
     ]
    }
   ],
   "source": [
    "r2 = mean_squared_error(y_pred,y_test)\n",
    "print(r2)"
   ]
  },
  {
   "cell_type": "markdown",
   "id": "6c486a5c",
   "metadata": {},
   "source": [
    "## DecisionTreeClassifer for classifying tracks into Popular or Not Popular"
   ]
  },
  {
   "cell_type": "code",
   "execution_count": 19,
   "id": "0fd98c72",
   "metadata": {},
   "outputs": [
    {
     "data": {
      "text/html": [
       "<style>#sk-container-id-1 {color: black;background-color: white;}#sk-container-id-1 pre{padding: 0;}#sk-container-id-1 div.sk-toggleable {background-color: white;}#sk-container-id-1 label.sk-toggleable__label {cursor: pointer;display: block;width: 100%;margin-bottom: 0;padding: 0.3em;box-sizing: border-box;text-align: center;}#sk-container-id-1 label.sk-toggleable__label-arrow:before {content: \"▸\";float: left;margin-right: 0.25em;color: #696969;}#sk-container-id-1 label.sk-toggleable__label-arrow:hover:before {color: black;}#sk-container-id-1 div.sk-estimator:hover label.sk-toggleable__label-arrow:before {color: black;}#sk-container-id-1 div.sk-toggleable__content {max-height: 0;max-width: 0;overflow: hidden;text-align: left;background-color: #f0f8ff;}#sk-container-id-1 div.sk-toggleable__content pre {margin: 0.2em;color: black;border-radius: 0.25em;background-color: #f0f8ff;}#sk-container-id-1 input.sk-toggleable__control:checked~div.sk-toggleable__content {max-height: 200px;max-width: 100%;overflow: auto;}#sk-container-id-1 input.sk-toggleable__control:checked~label.sk-toggleable__label-arrow:before {content: \"▾\";}#sk-container-id-1 div.sk-estimator input.sk-toggleable__control:checked~label.sk-toggleable__label {background-color: #d4ebff;}#sk-container-id-1 div.sk-label input.sk-toggleable__control:checked~label.sk-toggleable__label {background-color: #d4ebff;}#sk-container-id-1 input.sk-hidden--visually {border: 0;clip: rect(1px 1px 1px 1px);clip: rect(1px, 1px, 1px, 1px);height: 1px;margin: -1px;overflow: hidden;padding: 0;position: absolute;width: 1px;}#sk-container-id-1 div.sk-estimator {font-family: monospace;background-color: #f0f8ff;border: 1px dotted black;border-radius: 0.25em;box-sizing: border-box;margin-bottom: 0.5em;}#sk-container-id-1 div.sk-estimator:hover {background-color: #d4ebff;}#sk-container-id-1 div.sk-parallel-item::after {content: \"\";width: 100%;border-bottom: 1px solid gray;flex-grow: 1;}#sk-container-id-1 div.sk-label:hover label.sk-toggleable__label {background-color: #d4ebff;}#sk-container-id-1 div.sk-serial::before {content: \"\";position: absolute;border-left: 1px solid gray;box-sizing: border-box;top: 0;bottom: 0;left: 50%;z-index: 0;}#sk-container-id-1 div.sk-serial {display: flex;flex-direction: column;align-items: center;background-color: white;padding-right: 0.2em;padding-left: 0.2em;position: relative;}#sk-container-id-1 div.sk-item {position: relative;z-index: 1;}#sk-container-id-1 div.sk-parallel {display: flex;align-items: stretch;justify-content: center;background-color: white;position: relative;}#sk-container-id-1 div.sk-item::before, #sk-container-id-1 div.sk-parallel-item::before {content: \"\";position: absolute;border-left: 1px solid gray;box-sizing: border-box;top: 0;bottom: 0;left: 50%;z-index: -1;}#sk-container-id-1 div.sk-parallel-item {display: flex;flex-direction: column;z-index: 1;position: relative;background-color: white;}#sk-container-id-1 div.sk-parallel-item:first-child::after {align-self: flex-end;width: 50%;}#sk-container-id-1 div.sk-parallel-item:last-child::after {align-self: flex-start;width: 50%;}#sk-container-id-1 div.sk-parallel-item:only-child::after {width: 0;}#sk-container-id-1 div.sk-dashed-wrapped {border: 1px dashed gray;margin: 0 0.4em 0.5em 0.4em;box-sizing: border-box;padding-bottom: 0.4em;background-color: white;}#sk-container-id-1 div.sk-label label {font-family: monospace;font-weight: bold;display: inline-block;line-height: 1.2em;}#sk-container-id-1 div.sk-label-container {text-align: center;}#sk-container-id-1 div.sk-container {/* jupyter's `normalize.less` sets `[hidden] { display: none; }` but bootstrap.min.css set `[hidden] { display: none !important; }` so we also need the `!important` here to be able to override the default hidden behavior on the sphinx rendered scikit-learn.org. See: https://github.com/scikit-learn/scikit-learn/issues/21755 */display: inline-block !important;position: relative;}#sk-container-id-1 div.sk-text-repr-fallback {display: none;}</style><div id=\"sk-container-id-1\" class=\"sk-top-container\"><div class=\"sk-text-repr-fallback\"><pre>DecisionTreeClassifier(criterion=&#x27;entropy&#x27;, max_depth=3, min_samples_leaf=5,\n",
       "                       random_state=100)</pre><b>In a Jupyter environment, please rerun this cell to show the HTML representation or trust the notebook. <br />On GitHub, the HTML representation is unable to render, please try loading this page with nbviewer.org.</b></div><div class=\"sk-container\" hidden><div class=\"sk-item\"><div class=\"sk-estimator sk-toggleable\"><input class=\"sk-toggleable__control sk-hidden--visually\" id=\"sk-estimator-id-1\" type=\"checkbox\" checked><label for=\"sk-estimator-id-1\" class=\"sk-toggleable__label sk-toggleable__label-arrow\">DecisionTreeClassifier</label><div class=\"sk-toggleable__content\"><pre>DecisionTreeClassifier(criterion=&#x27;entropy&#x27;, max_depth=3, min_samples_leaf=5,\n",
       "                       random_state=100)</pre></div></div></div></div></div>"
      ],
      "text/plain": [
       "DecisionTreeClassifier(criterion='entropy', max_depth=3, min_samples_leaf=5,\n",
       "                       random_state=100)"
      ]
     },
     "execution_count": 19,
     "metadata": {},
     "output_type": "execute_result"
    }
   ],
   "source": [
    "clf_entropy = DecisionTreeClassifier(criterion=\"entropy\",random_state=100\n",
    "                                    ,max_depth=3, min_samples_leaf=5)\n",
    "clf_entropy.fit(x_train,z_train)"
   ]
  },
  {
   "cell_type": "code",
   "execution_count": 20,
   "id": "0fef91fc",
   "metadata": {},
   "outputs": [
    {
     "name": "stdout",
     "output_type": "stream",
     "text": [
      "['Yes' 'No' 'Yes' ... 'Yes' 'Yes' 'Yes']\n"
     ]
    }
   ],
   "source": [
    "z_pred = clf_entropy.predict(x_test)\n",
    "print(z_pred)"
   ]
  },
  {
   "cell_type": "markdown",
   "id": "73468584",
   "metadata": {},
   "source": [
    "## Check the score of the model"
   ]
  },
  {
   "cell_type": "code",
   "execution_count": 21,
   "id": "18b63179",
   "metadata": {},
   "outputs": [
    {
     "name": "stdout",
     "output_type": "stream",
     "text": [
      "1.0\n"
     ]
    }
   ],
   "source": [
    "print(accuracy_score(z_test,z_pred))"
   ]
  },
  {
   "cell_type": "markdown",
   "id": "5c2d6cc6",
   "metadata": {},
   "source": [
    "## Save the model using joblib to use later"
   ]
  },
  {
   "cell_type": "code",
   "execution_count": 22,
   "id": "f691a180",
   "metadata": {},
   "outputs": [
    {
     "data": {
      "text/plain": [
       "['spotify_popularity_pred.joblib']"
      ]
     },
     "execution_count": 22,
     "metadata": {},
     "output_type": "execute_result"
    }
   ],
   "source": [
    "joblib.dump(clf_entropy, 'spotify_popularity_pred.joblib')"
   ]
  },
  {
   "cell_type": "markdown",
   "id": "c0bd2d3f",
   "metadata": {},
   "source": [
    "## LabelEncoder for encoding the 'Yes' and 'No' values in the train and test dataset \n",
    "## LogisticalRegression model is used for classifying into 'Popular','Neutral','Not Popular' and accuracy is checked\n",
    "## LogisticalRegression model is saved using joblib for future use"
   ]
  },
  {
   "cell_type": "code",
   "execution_count": 23,
   "id": "22a5ca6f",
   "metadata": {},
   "outputs": [
    {
     "name": "stdout",
     "output_type": "stream",
     "text": [
      "1.0\n"
     ]
    },
    {
     "data": {
      "text/plain": [
       "['logistical_spotify.joblib']"
      ]
     },
     "execution_count": 23,
     "metadata": {},
     "output_type": "execute_result"
    }
   ],
   "source": [
    "from sklearn.preprocessing import LabelEncoder\n",
    "encoder = LabelEncoder()\n",
    "X_train['Result'] = encoder.fit_transform(X_train['Result'])\n",
    "X_test['Result'] = encoder.fit_transform(X_test['Result'])\n",
    "model = LogisticRegression(max_iter = 200)\n",
    "model.fit(X_train,p_train)\n",
    "p_pred = model.predict(X_test)\n",
    "print(accuracy_score(p_pred,p_test))\n",
    "joblib.dump(model,'logistical_spotify.joblib')"
   ]
  },
  {
   "cell_type": "code",
   "execution_count": null,
   "id": "8208989a",
   "metadata": {},
   "outputs": [],
   "source": []
  }
 ],
 "metadata": {
  "kernelspec": {
   "display_name": "Python 3 (ipykernel)",
   "language": "python",
   "name": "python3"
  },
  "language_info": {
   "codemirror_mode": {
    "name": "ipython",
    "version": 3
   },
   "file_extension": ".py",
   "mimetype": "text/x-python",
   "name": "python",
   "nbconvert_exporter": "python",
   "pygments_lexer": "ipython3",
   "version": "3.11.2"
  }
 },
 "nbformat": 4,
 "nbformat_minor": 5
}
